{
  "cells": [
    {
      "cell_type": "markdown",
      "metadata": {
        "id": "6p5T-FCxYqSu"
      },
      "source": [
        "# Libraries"
      ]
    },
    {
      "cell_type": "code",
      "execution_count": null,
      "metadata": {
        "colab": {
          "base_uri": "https://localhost:8080/"
        },
        "id": "F9fAbsNrYqSw",
        "outputId": "3a23cc15-1598-4c94-8fc4-4798512a32e5"
      },
      "outputs": [
        {
          "output_type": "stream",
          "name": "stderr",
          "text": [
            "[nltk_data] Downloading package stopwords to /root/nltk_data...\n",
            "[nltk_data]   Unzipping corpora/stopwords.zip.\n"
          ]
        }
      ],
      "source": [
        "import pandas as pd\n",
        "import tensorflow\n",
        "from tensorflow.keras.layers import *\n",
        "from tensorflow.keras.preprocessing.text import Tokenizer\n",
        "from tensorflow.keras.preprocessing.sequence import pad_sequences\n",
        "import matplotlib.pyplot as plt\n",
        "import nltk\n",
        "from nltk import WordNetLemmatizer\n",
        "from nltk.corpus import stopwords\n",
        "import spacy\n",
        "import re\n",
        "import sklearn\n",
        "from sklearn.model_selection import train_test_split\n",
        "import tqdm\n",
        "nltk.download('stopwords')\n",
        "STOPWORDS = set(stopwords.words('english'))\n",
        "from gensim.models import Word2Vec\n",
        "from tensorflow.keras import Sequential\n",
        "import numpy as np\n",
        "from tensorflow.keras.utils import to_categorical\n",
        "from sklearn.pipeline import make_pipeline\n",
        "from tensorflow.keras import datasets,models,layers\n",
        "from tensorflow.keras.layers import Conv1D, Concatenate, GlobalMaxPooling1D, GlobalAveragePooling1D, Dense, Embedding, Input,BatchNormalization\n",
        "from tensorflow.keras.models import Model"
      ]
    },
    {
      "cell_type": "markdown",
      "metadata": {
        "id": "P8Jwm6rQYqSw"
      },
      "source": [
        "# Load data"
      ]
    },
    {
      "cell_type": "code",
      "execution_count": null,
      "metadata": {
        "colab": {
          "base_uri": "https://localhost:8080/"
        },
        "id": "5ExqTl9JZbg7",
        "outputId": "7b0f4119-cf20-46d6-93f0-f68e18840105"
      },
      "outputs": [
        {
          "output_type": "stream",
          "name": "stdout",
          "text": [
            "Dataset URL: https://www.kaggle.com/datasets/kazanova/sentiment140\n",
            "License(s): other\n",
            "Downloading sentiment140.zip to /content\n",
            "100% 80.9M/80.9M [00:05<00:00, 20.3MB/s]\n",
            "100% 80.9M/80.9M [00:05<00:00, 15.2MB/s]\n"
          ]
        },
        {
          "output_type": "execute_result",
          "data": {
            "text/plain": [
              "['.config', 'training.1600000.processed.noemoticon.csv', 'sample_data']"
            ]
          },
          "metadata": {},
          "execution_count": 2
        }
      ],
      "source": [
        "\n",
        "!kaggle datasets download -d kazanova/sentiment140\n",
        "\n",
        "# Unzip the dataset\n",
        "import zipfile\n",
        "with zipfile.ZipFile('sentiment140.zip', 'r') as zip_ref:\n",
        "    zip_ref.extractall('.')\n",
        "\n",
        "# Delete the zip file\n",
        "import os\n",
        "os.remove('sentiment140.zip')\n",
        "\n",
        "# List files in the dataset directory\n",
        "os.listdir('.')"
      ]
    },
    {
      "cell_type": "code",
      "execution_count": null,
      "metadata": {
        "id": "oalAnI0jYqSx"
      },
      "outputs": [],
      "source": [
        "data = pd.read_csv('training.1600000.processed.noemoticon.csv',encoding = 'latin',header=None)"
      ]
    },
    {
      "cell_type": "code",
      "execution_count": null,
      "metadata": {
        "id": "pvCw-BcNYqSx"
      },
      "outputs": [],
      "source": [
        "data = data[[5, 0]]\n",
        "data.columns=['tweet', 'sentiment']"
      ]
    },
    {
      "cell_type": "code",
      "execution_count": null,
      "metadata": {
        "colab": {
          "base_uri": "https://localhost:8080/"
        },
        "id": "9ZTtFucnYqSx",
        "outputId": "76d4051e-5279-4229-a28a-c4f5e7e47c30"
      },
      "outputs": [
        {
          "output_type": "stream",
          "name": "stderr",
          "text": [
            "<ipython-input-5-85226499ea73>:1: SettingWithCopyWarning: \n",
            "A value is trying to be set on a copy of a slice from a DataFrame.\n",
            "Try using .loc[row_indexer,col_indexer] = value instead\n",
            "\n",
            "See the caveats in the documentation: https://pandas.pydata.org/pandas-docs/stable/user_guide/indexing.html#returning-a-view-versus-a-copy\n",
            "  data['sentiment'] = data['sentiment'].replace(4,1)\n"
          ]
        }
      ],
      "source": [
        "data['sentiment'] = data['sentiment'].replace(4,1)"
      ]
    },
    {
      "cell_type": "code",
      "execution_count": null,
      "metadata": {
        "colab": {
          "base_uri": "https://localhost:8080/",
          "height": 564
        },
        "id": "MnFEsi_7YqSy",
        "outputId": "d0253f21-544d-4be7-df02-a2255c20064a"
      },
      "outputs": [
        {
          "output_type": "display_data",
          "data": {
            "text/plain": [
              "<Figure size 800x600 with 1 Axes>"
            ],
            "image/png": "[encoded data removed]"
          },
          "metadata": {}
        }
      ],
      "source": [
        "plt.rcParams['font.family'] = 'DejaVu Sans'\n",
        "sentiment_counts = data['sentiment'].value_counts()\n",
        "sentiment_labels = {'Negative': 0, 'Positive': 1}\n",
        "plt.figure(figsize=(8, 6))\n",
        "plt.barh(list(sentiment_labels.keys()), list(sentiment_counts.values), color=['red', 'green', 'blue'])\n",
        "plt.xlabel(\"Frequency\")\n",
        "plt.yticks(list(sentiment_labels.values()), list(sentiment_labels.keys()))\n",
        "plt.title(\"Sentiment\")\n",
        "plt.grid(axis='x', linestyle='--', alpha=0.6)\n",
        "\n",
        "plt.show()"
      ]
    },
    {
      "cell_type": "markdown",
      "metadata": {
        "id": "j-HRENggYqSy"
      },
      "source": [
        "# Preprocessing"
      ]
    },
    {
      "cell_type": "code",
      "execution_count": null,
      "metadata": {
        "id": "V6elPUvKYqSz"
      },
      "outputs": [],
      "source": [
        "stop_words = set(stopwords.words('english'))\n",
        "def preprocess(text):\n",
        "    # Removing URLS\n",
        "    text = re.sub(r\"https?://\\S+|www\\.\\S+\",\" \",text)\n",
        "\n",
        "    # Removing html tags\n",
        "    text = re.sub(r\"<.*?>|&([a-z0-9]+|#[0-9]{1,6}|#x[0-9a-f]{1,6});\",\" \",text)\n",
        "\n",
        "    # Removing the Punctuation\n",
        "    text = re.sub(r\"[^\\w\\s]\", \" \", text)\n",
        "\n",
        "    # Removing words that have numbers\n",
        "    text = re.sub(r\"\\w*\\d\\w*\", \" \", text)\n",
        "\n",
        "    # Removing Digits\n",
        "    text = re.sub(r\"[0-9]+\", \" \", text)\n",
        "\n",
        "    # Cleaning white spaces\n",
        "    text = re.sub(r\"\\s+\", \" \", text).strip()\n",
        "\n",
        "    text = text.lower()\n",
        "    # Check stop words\n",
        "    tokens = []\n",
        "    for token in text.split():\n",
        "        if token not in stop_words and len(token) > 3:\n",
        "            tokens.append(token)\n",
        "    return \" \".join(tokens)"
      ]
    },
    {
      "cell_type": "code",
      "execution_count": null,
      "metadata": {
        "id": "kCyREKhgYqSz"
      },
      "outputs": [],
      "source": [
        "data.loc[:, 'tweet'] = data['tweet'].apply(preprocess)"
      ]
    },
    {
      "cell_type": "markdown",
      "metadata": {
        "id": "G7h9hOo0YqSz"
      },
      "source": [
        "# Split Data"
      ]
    },
    {
      "cell_type": "code",
      "execution_count": null,
      "metadata": {
        "colab": {
          "base_uri": "https://localhost:8080/"
        },
        "id": "1QxV55f5YqSz",
        "outputId": "9c4cc01c-9bf0-4460-8d9a-dda14e6a6a22"
      },
      "outputs": [
        {
          "output_type": "stream",
          "name": "stdout",
          "text": [
            "Train Data size: 1280000 1280000\n",
            "Test Data size 320000 320000\n"
          ]
        }
      ],
      "source": [
        "X = data['tweet']\n",
        "y = data['sentiment']\n",
        "X_train, X_test, y_train, y_test = train_test_split(X, y, test_size=0.2, random_state=7)\n",
        "\n",
        "print(\"Train Data size:\", len(X_train), len(y_train))\n",
        "print(\"Test Data size\", len(X_test), len(y_test))"
      ]
    },
    {
      "cell_type": "code",
      "execution_count": null,
      "metadata": {
        "id": "UoK069GXYqS0"
      },
      "outputs": [],
      "source": [
        "tokenizer = Tokenizer()\n",
        "tokenizer.fit_on_texts(X_train)\n",
        "\n",
        "# Convert text to sequences of integers\n",
        "X_train = tokenizer.texts_to_sequences(X_train)\n",
        "X_test = tokenizer.texts_to_sequences(X_test)"
      ]
    },
    {
      "cell_type": "code",
      "execution_count": null,
      "metadata": {
        "colab": {
          "base_uri": "https://localhost:8080/"
        },
        "id": "-2y7gBOrYqS0",
        "outputId": "d06ebf88-47c8-4a22-9cc2-9a4a10a5f9fe"
      },
      "outputs": [
        {
          "output_type": "stream",
          "name": "stdout",
          "text": [
            "After padding: (1280000, 27)\n",
            "After padding:(320000, 27)\n"
          ]
        }
      ],
      "source": [
        "max_length = max([len(seq) for seq in X_train])\n",
        "X_train = pad_sequences(X_train, maxlen=max_length)\n",
        "X_test = pad_sequences(X_test, maxlen=max_length)\n",
        "print(f\"After padding: {X_train.shape}\")\n",
        "print(f\"After padding:{X_test.shape}\")"
      ]
    },
    {
      "cell_type": "code",
      "execution_count": null,
      "metadata": {
        "id": "_ykMg1vUYqS0"
      },
      "outputs": [],
      "source": [
        "batch_size=512\n",
        "vocab_size = len(tokenizer.word_index)+1\n",
        "embedding_dim = 100"
      ]
    },
    {
      "cell_type": "code",
      "execution_count": null,
      "metadata": {
        "id": "lUUIYyeQYqS0"
      },
      "outputs": [],
      "source": [
        "CNN=models.Sequential([\n",
        "    layers.Embedding(vocab_size, embedding_dim, input_length=max_length),\n",
        "    layers.Dropout(0.5),\n",
        "\n",
        "    layers.Conv1D(filters=256, kernel_size=3, activation='relu'),\n",
        "    layers.Conv1D(filters=256, kernel_size=3, activation='relu'),\n",
        "    layers.GlobalMaxPooling1D(),\n",
        "\n",
        "    layers.Flatten(),\n",
        "    layers.Dense(128,activation=\"relu\"),\n",
        "    layers.Dropout(0.5),\n",
        "\n",
        "    layers.Dense(1, activation='sigmoid')\n",
        "])\n",
        "\n",
        "CNN.compile(loss = 'binary_crossentropy',\n",
        "                optimizer = 'adam',\n",
        "                metrics = ['accuracy'])"
      ]
    },
    {
      "cell_type": "code",
      "execution_count": null,
      "metadata": {
        "colab": {
          "base_uri": "https://localhost:8080/"
        },
        "id": "F7whN5WSYqS0",
        "outputId": "f52215eb-0158-42f9-d056-43ad1e276be1"
      },
      "outputs": [
        {
          "output_type": "stream",
          "name": "stdout",
          "text": [
            "Epoch 1/20\n",
            "2500/2500 [==============================] - 95s 36ms/step - loss: 0.5046 - accuracy: 0.7520\n",
            "Epoch 2/20\n",
            "2500/2500 [==============================] - 52s 21ms/step - loss: 0.4146 - accuracy: 0.8132\n",
            "Epoch 3/20\n",
            "2500/2500 [==============================] - 51s 21ms/step - loss: 0.3476 - accuracy: 0.8455\n",
            "Epoch 4/20\n",
            "2500/2500 [==============================] - 51s 20ms/step - loss: 0.3099 - accuracy: 0.8612\n",
            "Epoch 5/20\n",
            "2500/2500 [==============================] - 50s 20ms/step - loss: 0.2885 - accuracy: 0.8710\n",
            "Epoch 6/20\n",
            "2500/2500 [==============================] - 50s 20ms/step - loss: 0.2728 - accuracy: 0.8785\n",
            "Epoch 7/20\n",
            "2500/2500 [==============================] - 49s 20ms/step - loss: 0.2600 - accuracy: 0.8839\n",
            "Epoch 8/20\n",
            "2500/2500 [==============================] - 50s 20ms/step - loss: 0.2489 - accuracy: 0.8896\n",
            "Epoch 9/20\n",
            "2500/2500 [==============================] - 50s 20ms/step - loss: 0.2394 - accuracy: 0.8934\n",
            "Epoch 10/20\n",
            "2500/2500 [==============================] - 49s 20ms/step - loss: 0.2316 - accuracy: 0.8971\n",
            "Epoch 11/20\n",
            "2500/2500 [==============================] - 49s 20ms/step - loss: 0.2247 - accuracy: 0.9004\n",
            "Epoch 12/20\n",
            "2500/2500 [==============================] - 49s 20ms/step - loss: 0.2186 - accuracy: 0.9031\n",
            "Epoch 13/20\n",
            "2500/2500 [==============================] - 50s 20ms/step - loss: 0.2137 - accuracy: 0.9056\n",
            "Epoch 14/20\n",
            "2500/2500 [==============================] - 49s 20ms/step - loss: 0.2089 - accuracy: 0.9077\n",
            "Epoch 15/20\n",
            "2500/2500 [==============================] - 49s 20ms/step - loss: 0.2051 - accuracy: 0.9093\n",
            "Epoch 16/20\n",
            "2500/2500 [==============================] - 49s 20ms/step - loss: 0.2010 - accuracy: 0.9114\n",
            "Epoch 17/20\n",
            "2500/2500 [==============================] - 49s 20ms/step - loss: 0.1976 - accuracy: 0.9129\n",
            "Epoch 18/20\n",
            "2500/2500 [==============================] - 49s 20ms/step - loss: 0.1949 - accuracy: 0.9143\n",
            "Epoch 19/20\n",
            "2500/2500 [==============================] - 49s 20ms/step - loss: 0.1924 - accuracy: 0.9155\n",
            "Epoch 20/20\n",
            "2500/2500 [==============================] - 49s 20ms/step - loss: 0.1895 - accuracy: 0.9166\n"
          ]
        }
      ],
      "source": [
        "history=CNN.fit(X_train, y_train, epochs=20,batch_size=batch_size)"
      ]
    },
    {
      "cell_type": "code",
      "execution_count": null,
      "metadata": {
        "id": "Ng-zgjEuYqS0",
        "colab": {
          "base_uri": "https://localhost:8080/"
        },
        "outputId": "3b4341f9-571f-433e-9c61-99014d46ee6f"
      },
      "outputs": [
        {
          "output_type": "stream",
          "name": "stdout",
          "text": [
            "10000/10000 [==============================] - 23s 2ms/step - loss: 1.3522 - accuracy: 0.7336\n"
          ]
        },
        {
          "output_type": "execute_result",
          "data": {
            "text/plain": [
              "[1.352174162864685, 0.7335749864578247]"
            ]
          },
          "metadata": {},
          "execution_count": 15
        }
      ],
      "source": [
        "CNN.evaluate(X_test, y_test)"
      ]
    },
    {
      "cell_type": "code",
      "execution_count": null,
      "metadata": {
        "id": "w92x08RjYqS1",
        "colab": {
          "base_uri": "https://localhost:8080/"
        },
        "outputId": "2884bb46-f7c2-436d-fba6-84592524b9b2"
      },
      "outputs": [
        {
          "output_type": "stream",
          "name": "stdout",
          "text": [
            "Model: \"sequential\"\n",
            "_________________________________________________________________\n",
            " Layer (type)                Output Shape              Param #   \n",
            "=================================================================\n",
            " embedding (Embedding)       (None, 27, 100)           45102700  \n",
            "                                                                 \n",
            " dropout (Dropout)           (None, 27, 100)           0         \n",
            "                                                                 \n",
            " conv1d (Conv1D)             (None, 25, 256)           77056     \n",
            "                                                                 \n",
            " conv1d_1 (Conv1D)           (None, 23, 256)           196864    \n",
            "                                                                 \n",
            " global_max_pooling1d (Glob  (None, 256)               0         \n",
            " alMaxPooling1D)                                                 \n",
            "                                                                 \n",
            " flatten (Flatten)           (None, 256)               0         \n",
            "                                                                 \n",
            " dense (Dense)               (None, 128)               32896     \n",
            "                                                                 \n",
            " dropout_1 (Dropout)         (None, 128)               0         \n",
            "                                                                 \n",
            " dense_1 (Dense)             (None, 1)                 129       \n",
            "                                                                 \n",
            "=================================================================\n",
            "Total params: 45409645 (173.22 MB)\n",
            "Trainable params: 45409645 (173.22 MB)\n",
            "Non-trainable params: 0 (0.00 Byte)\n",
            "_________________________________________________________________\n"
          ]
        }
      ],
      "source": [
        "CNN.summary()"
      ]
    },
    {
      "cell_type": "code",
      "execution_count": null,
      "metadata": {
        "id": "batjAGImYqS1",
        "colab": {
          "base_uri": "https://localhost:8080/",
          "height": 658
        },
        "outputId": "53920402-c408-42b7-f42f-facadf5cfeb9"
      },
      "outputs": [
        {
          "output_type": "stream",
          "name": "stdout",
          "text": [
            "10000/10000 [==============================] - 20s 2ms/step\n"
          ]
        },
        {
          "output_type": "display_data",
          "data": {
            "text/plain": [
              "<Figure size 1000x700 with 2 Axes>"
            ],
            "image/png": "[encoded data removed]"
          },
          "metadata": {}
        }
      ],
      "source": [
        "\n",
        "import matplotlib.pyplot as plt\n",
        "import seaborn as sn\n",
        "import tensorflow as tf\n",
        "y_pred = CNN.predict(X_test)\n",
        "y_pred_rounded = np.round(y_pred)\n",
        "cm = tf.math.confusion_matrix(labels=y_test,predictions=y_pred_rounded)\n",
        "plt.figure(figsize=(10, 7))\n",
        "sn.heatmap(cm, annot=True, fmt='d', cmap='Blues')\n",
        "plt.title('Confusion Matrix')\n",
        "plt.xlabel('Predicted')\n",
        "plt.ylabel('Truth')\n",
        "plt.show()"
      ]
    },
    {
      "cell_type": "code",
      "execution_count": null,
      "metadata": {
        "id": "vFFfLUP7YqS1",
        "colab": {
          "base_uri": "https://localhost:8080/"
        },
        "outputId": "c92b3f3d-3923-46d0-f7b3-143c6a215b22"
      },
      "outputs": [
        {
          "output_type": "stream",
          "name": "stdout",
          "text": [
            "              precision    recall  f1-score   support\n",
            "\n",
            "    Negative       0.73      0.74      0.74    160542\n",
            "    Positive       0.74      0.73      0.73    159458\n",
            "\n",
            "    accuracy                           0.73    320000\n",
            "   macro avg       0.73      0.73      0.73    320000\n",
            "weighted avg       0.73      0.73      0.73    320000\n",
            "\n"
          ]
        }
      ],
      "source": [
        "\n",
        "from sklearn.metrics import classification_report\n",
        "\n",
        "\n",
        "# Print classification report\n",
        "print(classification_report(y_test, y_pred_rounded, target_names=['Negative', 'Positive']))"
      ]
    },
    {
      "cell_type": "markdown",
      "metadata": {
        "id": "Hr8OAL36YqS1"
      },
      "source": [
        "# VGG-16 architecture"
      ]
    },
    {
      "cell_type": "code",
      "execution_count": null,
      "metadata": {
        "id": "skiFgvvIYqS1"
      },
      "outputs": [],
      "source": [
        "# from tensorflow.keras.layers import Input, Embedding, Conv1D, MaxPooling1D, Flatten, Dense\n",
        "# from tensorflow.keras.models import Model\n",
        "\n",
        "# # Define the model\n",
        "# embedding_layer = Embedding(vocab_size, 100, input_length=max_length, trainable=False)\n",
        "# sequence_input = Input(shape=(max_length,), dtype='int32')\n",
        "# embedding_sequences = embedding_layer(sequence_input)\n",
        "\n",
        "# x = Conv1D(64, 3, activation='relu', padding='same')(embedding_sequences)\n",
        "# x = Conv1D(64, 3, activation='relu', padding='same')(x)\n",
        "# x= MaxPooling1D(pool_size=3, strides=1, padding='same')(x)\n",
        "\n",
        "# x = Conv1D(128, 3, activation='relu', padding='same')(x)\n",
        "# x = Conv1D(128, 3, activation='relu', padding='same')(x)\n",
        "# x = MaxPooling1D(pool_size=3, strides=1, padding='same')(x)\n",
        "\n",
        "# x = Conv1D(256, 3, activation='relu', padding='same')(x)\n",
        "# x = Conv1D(256, 3, activation='relu', padding='same')(x)\n",
        "# x = Conv1D(256, 3, activation='relu', padding='same')(x)\n",
        "# x = MaxPooling1D(pool_size=3, strides=1, padding='same')(x)\n",
        "\n",
        "# x = Conv1D(512, 3, activation='relu', padding='same')(x)\n",
        "# x = Conv1D(512, 3, activation='relu', padding='same')(x)\n",
        "# x = Conv1D(512, 3, activation='relu', padding='same')(x)\n",
        "# x = MaxPooling1D(pool_size=3, strides=1, padding='same')(x)\n",
        "\n",
        "# x = Conv1D(512, 3, activation='relu', padding='same')(x)\n",
        "# x = Conv1D(512, 3, activation='relu', padding='same')(x)\n",
        "# x = Conv1D(512, 3, activation='relu', padding='same')(x)\n",
        "\n",
        "# x = Flatten()(x)\n",
        "# x = Dense(512, activation='relu')(x)\n",
        "# x = Dense(512, activation='relu')(x)\n",
        "\n",
        "# outputs = Dense(1, activation='sigmoid')(x)\n",
        "\n",
        "# model_vgg16 = Model(sequence_input, outputs)\n",
        "\n",
        "# # Compile the model\n",
        "# model_vgg16.compile(optimizer='adam', loss='binary_crossentropy', metrics=['accuracy'])\n"
      ]
    },
    {
      "cell_type": "code",
      "execution_count": null,
      "metadata": {
        "id": "ww7jrJCsYqS1"
      },
      "outputs": [],
      "source": [
        "# history = model_vgg16.fit(X_train, y_train, batch_size=64, epochs=5)"
      ]
    },
    {
      "cell_type": "code",
      "execution_count": null,
      "metadata": {
        "id": "zn-U7aseYqS1"
      },
      "outputs": [],
      "source": [
        "# loss, accuracy = model_vgg16.evaluate(X_test, y_test)\n",
        "# print(\"Test Loss:\", loss)\n",
        "# print(\"Test Accuracy:\", accuracy)"
      ]
    },
    {
      "cell_type": "code",
      "execution_count": null,
      "metadata": {
        "id": "c_GlMe9AYqS1"
      },
      "outputs": [],
      "source": [
        "# model_vgg16.summary()"
      ]
    },
    {
      "cell_type": "markdown",
      "metadata": {
        "id": "MJNGkOfaYqS1"
      },
      "source": [
        "# Inception Architecture"
      ]
    },
    {
      "cell_type": "code",
      "execution_count": null,
      "metadata": {
        "id": "m1twnDc_YqS2"
      },
      "outputs": [],
      "source": [
        "# # Define the model\n",
        "# sequence_input = Input(shape=(max_length,), dtype='int32')\n",
        "# embedding_sequences = embedding_layer(sequence_input)\n",
        "\n",
        "# l1 = Conv1D(64, 1, activation='relu', padding='same')(embedding_sequences)\n",
        "# l2 = Conv1D(64, 3, activation='relu', padding='same')(embedding_sequences)\n",
        "# l3 = Conv1D(64, 5, activation='relu', padding='same')(embedding_sequences)\n",
        "# l4 = Conv1D(64, 7, activation='relu', padding='same')(embedding_sequences)\n",
        "# l5 = Conv1D(64, 9, activation='relu', padding='same')(embedding_sequences)\n",
        "# l6 = MaxPooling1D(pool_size=3, strides=1, padding='same')(embedding_sequences)\n",
        "# l6 = Conv1D(64, 1, activation='relu', padding='same')(l6)\n",
        "\n",
        "# l = Concatenate(axis=-1)([l1, l2, l3, l4, l5, l6])\n",
        "# l = Flatten()(l)\n",
        "# l = Dense(512, activation='relu')(l)\n",
        "# l = Dense(512, activation='relu')(l)\n",
        "\n",
        "# outputs = Dense(1, activation='sigmoid')(l)\n",
        "\n",
        "# model_inception = Model(sequence_input, outputs)\n",
        "\n",
        "# # Compile the model\n",
        "# model_inception.compile(optimizer='adam', loss='binary_crossentropy', metrics=['accuracy'])\n"
      ]
    },
    {
      "cell_type": "code",
      "execution_count": null,
      "metadata": {
        "id": "fqMDfXkXYqS2"
      },
      "outputs": [],
      "source": [
        "# history = model_inception.fit(X_train, y_train, batch_size=64, epochs=5)"
      ]
    },
    {
      "cell_type": "code",
      "execution_count": null,
      "metadata": {
        "id": "Trl3TlnlYqS2"
      },
      "outputs": [],
      "source": [
        "# loss, accuracy = model_inception.evaluate(X_test, y_test)\n",
        "# print(\"Test Loss:\", loss)\n",
        "# print(\"Test Accuracy:\", accuracy)"
      ]
    },
    {
      "cell_type": "code",
      "execution_count": null,
      "metadata": {
        "id": "JdbydikNYqS2"
      },
      "outputs": [],
      "source": [
        "# model_inception.summary()"
      ]
    },
    {
      "cell_type": "code",
      "execution_count": null,
      "metadata": {
        "id": "_qDjsuu3YqS2"
      },
      "outputs": [],
      "source": [
        "# y_pred = model_inception.predict(X_test)\n",
        "# y_pred_rounded = np.round(y_pred)\n",
        "# cm = tf.math.confusion_matrix(labels=y_test,predictions=y_pred_rounded)\n",
        "# plt.figure(figsize=(10, 7))\n",
        "# sn.heatmap(cm, annot=True, fmt='d', cmap='Blues')\n",
        "# plt.title('Confusion Matrix')\n",
        "# plt.xlabel('Predicted')\n",
        "# plt.ylabel('Truth')\n",
        "# plt.show()"
      ]
    },
    {
      "cell_type": "code",
      "execution_count": null,
      "metadata": {
        "id": "989lR5p0YqS2",
        "colab": {
          "base_uri": "https://localhost:8080/"
        },
        "outputId": "b40bd2b4-768d-4ce5-d024-a0e5b0c7ef5a"
      },
      "outputs": [
        {
          "output_type": "stream",
          "name": "stdout",
          "text": [
            "              precision    recall  f1-score   support\n",
            "\n",
            "    Negative       0.73      0.74      0.74    160542\n",
            "    Positive       0.74      0.73      0.73    159458\n",
            "\n",
            "    accuracy                           0.73    320000\n",
            "   macro avg       0.73      0.73      0.73    320000\n",
            "weighted avg       0.73      0.73      0.73    320000\n",
            "\n"
          ]
        }
      ],
      "source": [
        "\n",
        "from sklearn.metrics import classification_report\n",
        "\n",
        "\n",
        "# Print classification report\n",
        "print(classification_report(y_test, y_pred_rounded, target_names=['Negative', 'Positive']))"
      ]
    },
    {
      "cell_type": "code",
      "execution_count": null,
      "metadata": {
        "id": "JEG34GESYqS2",
        "colab": {
          "base_uri": "https://localhost:8080/"
        },
        "outputId": "34ca4699-24ea-46e2-a6db-2fd52057aff2"
      },
      "outputs": [
        {
          "output_type": "stream",
          "name": "stdout",
          "text": [
            "1/1 [==============================] - 0s 174ms/step\n",
            "1/1 [==============================] - 0s 17ms/step\n",
            "1/1 [==============================] - 0s 20ms/step\n",
            "1/1 [==============================] - 0s 29ms/step\n",
            "1/1 [==============================] - 0s 28ms/step\n",
            "1/1 [==============================] - 0s 31ms/step\n",
            "1/1 [==============================] - 0s 26ms/step\n",
            "1/1 [==============================] - 0s 26ms/step\n",
            "1/1 [==============================] - 0s 25ms/step\n",
            "1/1 [==============================] - 0s 26ms/step\n",
            "Sample 1:\n",
            "Tweet: asking everyone join know going thru phone\n",
            "Predicted Sentiment: Positive\n",
            "True Sentiment: Positive\n",
            "\n",
            "Sample 2:\n",
            "Tweet: thank\n",
            "Predicted Sentiment: Positive\n",
            "True Sentiment: Positive\n",
            "\n",
            "Sample 3:\n",
            "Tweet: damn\n",
            "Predicted Sentiment: Negative\n",
            "True Sentiment: Negative\n",
            "\n",
            "Sample 4:\n",
            "Tweet: katiesantry birthday days gemini geminis best\n",
            "Predicted Sentiment: Positive\n",
            "True Sentiment: Positive\n",
            "\n",
            "Sample 5:\n",
            "Tweet: blackberry troubles fortunately enough touch works fine almost years\n",
            "Predicted Sentiment: Positive\n",
            "True Sentiment: Positive\n",
            "\n",
            "Sample 6:\n",
            "Tweet: sweetlisi hope feel better sweetie congested fever related maybe sinus congestion pressure causes aches\n",
            "Predicted Sentiment: Positive\n",
            "True Sentiment: Negative\n",
            "\n",
            "Sample 7:\n",
            "Tweet: please visit justin site thanks good songs music icarly related\n",
            "Predicted Sentiment: Positive\n",
            "True Sentiment: Positive\n",
            "\n",
            "Sample 8:\n",
            "Tweet: feeling beautiful today\n",
            "Predicted Sentiment: Negative\n",
            "True Sentiment: Positive\n",
            "\n",
            "Sample 9:\n",
            "Tweet: jearle twitter tits thing well followers much love\n",
            "Predicted Sentiment: Positive\n",
            "True Sentiment: Positive\n",
            "\n",
            "Sample 10:\n",
            "Tweet: sithiche snap beautiful weather\n",
            "Predicted Sentiment: Negative\n",
            "True Sentiment: Positive\n",
            "\n"
          ]
        }
      ],
      "source": [
        "def predict_sentiments(model, tokenizer, data, num_samples=10):\n",
        "    results = []\n",
        "    for _ in range(num_samples):\n",
        "        index = np.random.randint(0, len(data))\n",
        "        tweet = data.iloc[index]['tweet']\n",
        "        y_true = data.iloc[index]['sentiment']\n",
        "        cleaned_tweet = preprocess(tweet)\n",
        "        sequence = tokenizer.texts_to_sequences([cleaned_tweet])\n",
        "        padded_sequence = pad_sequences(sequence, maxlen=max_length)\n",
        "        prediction = model.predict(padded_sequence)[0][0]\n",
        "        sentiment = \"Positive\" if prediction >= 0.5 else \"Negative\"\n",
        "        results.append((tweet, sentiment, y_true))\n",
        "\n",
        "    return results\n",
        "\n",
        "results = predict_sentiments(CNN, tokenizer, data, num_samples=10)\n",
        "for i, (tweet, sentiment, y_true) in enumerate(results, 1):\n",
        "    print(f\"Sample {i}:\")\n",
        "    print(\"Tweet:\", tweet)\n",
        "    print(\"Predicted Sentiment:\", sentiment)\n",
        "    print(\"True Sentiment:\", \"Positive\" if y_true == 1 else \"Negative\")\n",
        "    print()"
      ]
    },
    {
      "cell_type": "code",
      "execution_count": null,
      "metadata": {
        "id": "gYP3kRpa4kxr",
        "colab": {
          "base_uri": "https://localhost:8080/"
        },
        "outputId": "267735f3-7a3e-4bdf-b358-a3a79368780f"
      },
      "outputs": [
        {
          "output_type": "stream",
          "name": "stdout",
          "text": [
            "Enter a tweet: hi\n",
            "1/1 [==============================] - 0s 18ms/step\n",
            "Predicted Sentiment: Negative\n"
          ]
        }
      ],
      "source": [
        "# Assuming preprocess, max_length, tokenizer, and CNN are defined and accessible\n",
        "\n",
        "def predict_custom_input(model, tokenizer, input_text, max_length):\n",
        "    cleaned_text = preprocess(input_text)\n",
        "    sequence = tokenizer.texts_to_sequences([cleaned_text])\n",
        "    padded_sequence = pad_sequences(sequence, maxlen=max_length)\n",
        "    prediction = model.predict(padded_sequence)[0][0]\n",
        "    sentiment = \"Positive\" if prediction >= 0.5 else \"Negative\"\n",
        "    print(\"Predicted Sentiment:\", sentiment)\n",
        "\n",
        "# Example usage\n",
        "custom_input = input(\"Enter a tweet: \")\n",
        "predict_custom_input(CNN, tokenizer, custom_input, max_length)\n"
      ]
    },
    {
      "cell_type": "code",
      "source": [
        "import json\n",
        "import numpy as np\n",
        "\n",
        "# Save the history as a pickle file\n",
        "import pickle\n",
        "\n",
        "with open('history.bin', 'wb') as f:\n",
        "    pickle.dump(history.history, f)\n",
        "\n",
        "# Save the model weights\n",
        "CNN.save_weights('model_weights.h5')\n",
        "\n",
        "# Save the model architecture as JSON\n",
        "model_json = CNN.to_json()\n",
        "with open('model.json', 'w') as json_file:\n",
        "    json_file.write(model_json)\n",
        "\n",
        "# Save the tokenizer\n",
        "with open('tokenizer.bin', 'wb') as f:\n",
        "    pickle.dump(tokenizer, f)\n",
        "\n",
        "# Save the max_length\n",
        "max_length_array = np.array([max_length])\n",
        "with open('max_length.bin', 'wb') as f:\n",
        "    f.write(max_length_array.tobytes())\n"
      ],
      "metadata": {
        "id": "9zY_LeUTEmLQ"
      },
      "execution_count": null,
      "outputs": []
    },
    {
      "cell_type": "code",
      "source": [
        "import json\n",
        "import numpy as np\n",
        "import pickle\n",
        "\n",
        "from google.colab import drive\n",
        "drive.mount('/content/drive')\n",
        "# Save the history as a binary file\n",
        "with open('/content/drive/MyDrive/history.bin', 'wb') as f:\n",
        "    pickle.dump(history.history, f)\n",
        "\n",
        "# Save the model weights\n",
        "CNN.save_weights('/content/drive/MyDrive/model_weights.h5')\n",
        "\n",
        "# Save the model architecture as JSON\n",
        "model_json = CNN.to_json()\n",
        "with open('/content/drive/MyDrive/model.json', 'w') as json_file:\n",
        "    json_file.write(model_json)\n",
        "\n",
        "# Save the tokenizer\n",
        "with open('/content/drive/MyDrive/tokenizer.bin', 'wb') as f:\n",
        "    pickle.dump(tokenizer, f)\n",
        "\n",
        "# Save the max_length\n",
        "max_length_array = np.array([max_length])\n",
        "with open('/content/drive/MyDrive/max_length.bin', 'wb') as f:\n",
        "    f.write(max_length_array.tobytes())\n"
      ],
      "metadata": {
        "colab": {
          "base_uri": "https://localhost:8080/"
        },
        "id": "mndYbzEoFGwY",
        "outputId": "3fb4cb4f-3d8e-4ef2-de85-cfaecdb4e31a"
      },
      "execution_count": null,
      "outputs": [
        {
          "output_type": "stream",
          "name": "stdout",
          "text": [
            "Mounted at /content/drive\n"
          ]
        }
      ]
    },
    {
      "cell_type": "code",
      "execution_count": null,
      "metadata": {
        "id": "PnNgPgkO54B8",
        "colab": {
          "base_uri": "https://localhost:8080/"
        },
        "outputId": "16b89452-ea66-4415-8e3c-6e2f413153f6"
      },
      "outputs": [
        {
          "output_type": "stream",
          "name": "stderr",
          "text": [
            "/usr/local/lib/python3.10/dist-packages/keras/src/engine/training.py:3103: UserWarning: You are saving your model as an HDF5 file via `model.save()`. This file format is considered legacy. We recommend using instead the native Keras format, e.g. `model.save('my_model.keras')`.\n",
            "  saving_api.save_model(\n"
          ]
        }
      ],
      "source": [
        "\n",
        "# Save the history as a pickle file\n",
        "import pickle\n",
        "\n",
        "with open('history.pkl', 'wb') as f:\n",
        "    pickle.dump(history.history, f)\n",
        "\n",
        "# Save the model weights\n",
        "CNN.save('model.h5')\n",
        "\n",
        "# Save the tokenizer\n",
        "with open('tokenizer.pkl', 'wb') as f:\n",
        "    pickle.dump(tokenizer, f)\n",
        "\n",
        "# Save the max_length\n",
        "with open('max_length.pkl', 'wb') as f:\n",
        "    pickle.dump(max_length, f)\n",
        "\n",
        "# Requirements for running the model in Flask:\n",
        "# - Python 3.6 or higher\n",
        "# - TensorFlow 2.0 or higher\n",
        "# - Keras 2.3 or higher\n",
        "# - Flask 1.0 or higher\n",
        "# - h5py 2.10 or higher\n",
        "# - pickle 4.0 or higher\n",
        "\n",
        "# Instructions for running the model in Flask:\n",
        "# 1. Install the required packages.\n",
        "# 2. Load the saved model, tokenizer, and max_length.\n",
        "# 3. Create a Flask app.\n",
        "# 4. Define a route that accepts a tweet as input and returns the predicted sentiment.\n",
        "# 5. Run the Flask app.\n"
      ]
    },
    {
      "cell_type": "code",
      "execution_count": null,
      "metadata": {
        "id": "ekiP5Rtv78dn",
        "colab": {
          "base_uri": "https://localhost:8080/",
          "height": 356
        },
        "outputId": "32e23c2c-04da-42c8-94ce-2c7cf8588a53"
      },
      "outputs": [
        {
          "output_type": "error",
          "ename": "KeyboardInterrupt",
          "evalue": "",
          "traceback": [
            "\u001b[0;31m---------------------------------------------------------------------------\u001b[0m",
            "\u001b[0;31mKeyboardInterrupt\u001b[0m                         Traceback (most recent call last)",
            "\u001b[0;32m<ipython-input-32-92cda6ff54be>\u001b[0m in \u001b[0;36m<cell line: 2>\u001b[0;34m()\u001b[0m\n\u001b[1;32m      1\u001b[0m \u001b[0;32mfrom\u001b[0m \u001b[0mgoogle\u001b[0m\u001b[0;34m.\u001b[0m\u001b[0mcolab\u001b[0m \u001b[0;32mimport\u001b[0m \u001b[0mdrive\u001b[0m\u001b[0;34m\u001b[0m\u001b[0;34m\u001b[0m\u001b[0m\n\u001b[0;32m----> 2\u001b[0;31m \u001b[0mdrive\u001b[0m\u001b[0;34m.\u001b[0m\u001b[0mmount\u001b[0m\u001b[0;34m(\u001b[0m\u001b[0;34m'/content/drive'\u001b[0m\u001b[0;34m)\u001b[0m\u001b[0;34m\u001b[0m\u001b[0;34m\u001b[0m\u001b[0m\n\u001b[0m\u001b[1;32m      3\u001b[0m \u001b[0;32mwith\u001b[0m \u001b[0mopen\u001b[0m\u001b[0;34m(\u001b[0m\u001b[0;34m'history.pkl'\u001b[0m\u001b[0;34m,\u001b[0m \u001b[0;34m'rb'\u001b[0m\u001b[0;34m)\u001b[0m \u001b[0;32mas\u001b[0m \u001b[0mf\u001b[0m\u001b[0;34m:\u001b[0m\u001b[0;34m\u001b[0m\u001b[0;34m\u001b[0m\u001b[0m\n\u001b[1;32m      4\u001b[0m     \u001b[0mhistory\u001b[0m \u001b[0;34m=\u001b[0m \u001b[0mpickle\u001b[0m\u001b[0;34m.\u001b[0m\u001b[0mload\u001b[0m\u001b[0;34m(\u001b[0m\u001b[0mf\u001b[0m\u001b[0;34m)\u001b[0m\u001b[0;34m\u001b[0m\u001b[0;34m\u001b[0m\u001b[0m\n\u001b[1;32m      5\u001b[0m \u001b[0mCNN\u001b[0m\u001b[0;34m.\u001b[0m\u001b[0msave\u001b[0m\u001b[0;34m(\u001b[0m\u001b[0;34m'/content/drive/MyDrive/model.h5'\u001b[0m\u001b[0;34m)\u001b[0m\u001b[0;34m\u001b[0m\u001b[0;34m\u001b[0m\u001b[0m\n",
            "\u001b[0;32m/usr/local/lib/python3.10/dist-packages/google/colab/drive.py\u001b[0m in \u001b[0;36mmount\u001b[0;34m(mountpoint, force_remount, timeout_ms, readonly)\u001b[0m\n\u001b[1;32m     98\u001b[0m \u001b[0;32mdef\u001b[0m \u001b[0mmount\u001b[0m\u001b[0;34m(\u001b[0m\u001b[0mmountpoint\u001b[0m\u001b[0;34m,\u001b[0m \u001b[0mforce_remount\u001b[0m\u001b[0;34m=\u001b[0m\u001b[0;32mFalse\u001b[0m\u001b[0;34m,\u001b[0m \u001b[0mtimeout_ms\u001b[0m\u001b[0;34m=\u001b[0m\u001b[0;36m120000\u001b[0m\u001b[0;34m,\u001b[0m \u001b[0mreadonly\u001b[0m\u001b[0;34m=\u001b[0m\u001b[0;32mFalse\u001b[0m\u001b[0;34m)\u001b[0m\u001b[0;34m:\u001b[0m\u001b[0;34m\u001b[0m\u001b[0;34m\u001b[0m\u001b[0m\n\u001b[1;32m     99\u001b[0m   \u001b[0;34m\"\"\"Mount your Google Drive at the specified mountpoint path.\"\"\"\u001b[0m\u001b[0;34m\u001b[0m\u001b[0;34m\u001b[0m\u001b[0m\n\u001b[0;32m--> 100\u001b[0;31m   return _mount(\n\u001b[0m\u001b[1;32m    101\u001b[0m       \u001b[0mmountpoint\u001b[0m\u001b[0;34m,\u001b[0m\u001b[0;34m\u001b[0m\u001b[0;34m\u001b[0m\u001b[0m\n\u001b[1;32m    102\u001b[0m       \u001b[0mforce_remount\u001b[0m\u001b[0;34m=\u001b[0m\u001b[0mforce_remount\u001b[0m\u001b[0;34m,\u001b[0m\u001b[0;34m\u001b[0m\u001b[0;34m\u001b[0m\u001b[0m\n",
            "\u001b[0;32m/usr/local/lib/python3.10/dist-packages/google/colab/drive.py\u001b[0m in \u001b[0;36m_mount\u001b[0;34m(mountpoint, force_remount, timeout_ms, ephemeral, readonly)\u001b[0m\n\u001b[1;32m    131\u001b[0m   )\n\u001b[1;32m    132\u001b[0m   \u001b[0;32mif\u001b[0m \u001b[0mephemeral\u001b[0m\u001b[0;34m:\u001b[0m\u001b[0;34m\u001b[0m\u001b[0;34m\u001b[0m\u001b[0m\n\u001b[0;32m--> 133\u001b[0;31m     _message.blocking_request(\n\u001b[0m\u001b[1;32m    134\u001b[0m         \u001b[0;34m'request_auth'\u001b[0m\u001b[0;34m,\u001b[0m\u001b[0;34m\u001b[0m\u001b[0;34m\u001b[0m\u001b[0m\n\u001b[1;32m    135\u001b[0m         \u001b[0mrequest\u001b[0m\u001b[0;34m=\u001b[0m\u001b[0;34m{\u001b[0m\u001b[0;34m'authType'\u001b[0m\u001b[0;34m:\u001b[0m \u001b[0;34m'dfs_ephemeral'\u001b[0m\u001b[0;34m}\u001b[0m\u001b[0;34m,\u001b[0m\u001b[0;34m\u001b[0m\u001b[0;34m\u001b[0m\u001b[0m\n",
            "\u001b[0;32m/usr/local/lib/python3.10/dist-packages/google/colab/_message.py\u001b[0m in \u001b[0;36mblocking_request\u001b[0;34m(request_type, request, timeout_sec, parent)\u001b[0m\n\u001b[1;32m    174\u001b[0m       \u001b[0mrequest_type\u001b[0m\u001b[0;34m,\u001b[0m \u001b[0mrequest\u001b[0m\u001b[0;34m,\u001b[0m \u001b[0mparent\u001b[0m\u001b[0;34m=\u001b[0m\u001b[0mparent\u001b[0m\u001b[0;34m,\u001b[0m \u001b[0mexpect_reply\u001b[0m\u001b[0;34m=\u001b[0m\u001b[0;32mTrue\u001b[0m\u001b[0;34m\u001b[0m\u001b[0;34m\u001b[0m\u001b[0m\n\u001b[1;32m    175\u001b[0m   )\n\u001b[0;32m--> 176\u001b[0;31m   \u001b[0;32mreturn\u001b[0m \u001b[0mread_reply_from_input\u001b[0m\u001b[0;34m(\u001b[0m\u001b[0mrequest_id\u001b[0m\u001b[0;34m,\u001b[0m \u001b[0mtimeout_sec\u001b[0m\u001b[0;34m)\u001b[0m\u001b[0;34m\u001b[0m\u001b[0;34m\u001b[0m\u001b[0m\n\u001b[0m",
            "\u001b[0;32m/usr/local/lib/python3.10/dist-packages/google/colab/_message.py\u001b[0m in \u001b[0;36mread_reply_from_input\u001b[0;34m(message_id, timeout_sec)\u001b[0m\n\u001b[1;32m     94\u001b[0m     \u001b[0mreply\u001b[0m \u001b[0;34m=\u001b[0m \u001b[0m_read_next_input_message\u001b[0m\u001b[0;34m(\u001b[0m\u001b[0;34m)\u001b[0m\u001b[0;34m\u001b[0m\u001b[0;34m\u001b[0m\u001b[0m\n\u001b[1;32m     95\u001b[0m     \u001b[0;32mif\u001b[0m \u001b[0mreply\u001b[0m \u001b[0;34m==\u001b[0m \u001b[0m_NOT_READY\u001b[0m \u001b[0;32mor\u001b[0m \u001b[0;32mnot\u001b[0m \u001b[0misinstance\u001b[0m\u001b[0;34m(\u001b[0m\u001b[0mreply\u001b[0m\u001b[0;34m,\u001b[0m \u001b[0mdict\u001b[0m\u001b[0;34m)\u001b[0m\u001b[0;34m:\u001b[0m\u001b[0;34m\u001b[0m\u001b[0;34m\u001b[0m\u001b[0m\n\u001b[0;32m---> 96\u001b[0;31m       \u001b[0mtime\u001b[0m\u001b[0;34m.\u001b[0m\u001b[0msleep\u001b[0m\u001b[0;34m(\u001b[0m\u001b[0;36m0.025\u001b[0m\u001b[0;34m)\u001b[0m\u001b[0;34m\u001b[0m\u001b[0;34m\u001b[0m\u001b[0m\n\u001b[0m\u001b[1;32m     97\u001b[0m       \u001b[0;32mcontinue\u001b[0m\u001b[0;34m\u001b[0m\u001b[0;34m\u001b[0m\u001b[0m\n\u001b[1;32m     98\u001b[0m     if (\n",
            "\u001b[0;31mKeyboardInterrupt\u001b[0m: "
          ]
        }
      ],
      "source": [
        "from google.colab import drive\n",
        "drive.mount('/content/drive')\n",
        "with open('history.pkl', 'rb') as f:\n",
        "    history = pickle.load(f)\n",
        "CNN.save('/content/drive/MyDrive/model.h5')\n",
        "with open('/content/drive/MyDrive/tokenizer.pkl', 'wb') as f:\n",
        "    pickle.dump(tokenizer, f)\n",
        "with open('/content/drive/MyDrive/max_length.pkl', 'wb') as f:\n",
        "    pickle.dump(max_length, f)\n"
      ]
    },
    {
      "cell_type": "code",
      "source": [
        "import json\n",
        "import joblib\n",
        "import numpy as np\n",
        "\n",
        "# Save the history as a pickle file\n",
        "import pickle\n",
        "\n",
        "with open('history.bin', 'wb') as f:\n",
        "    pickle.dump(history.history, f)\n",
        "\n",
        "# Save the model weights\n",
        "CNN.save_weights('model_weights.h5')\n",
        "\n",
        "# Save the model architecture as JSON\n",
        "model_json = CNN.to_json()\n",
        "with open('model.json', 'w') as json_file:\n",
        "    json_file.write(model_json)\n",
        "\n",
        "# Save the tokenizer\n",
        "joblib.dump(tokenizer, 'tokenizer.joblib')\n",
        "\n",
        "# Save the max_length\n",
        "joblib.dump(max_length, 'max_length.joblib')\n"
      ],
      "metadata": {
        "colab": {
          "base_uri": "https://localhost:8080/"
        },
        "id": "jco-qzVNJH_4",
        "outputId": "7d9ded35-9544-48e3-a52d-bae10a9cb1e6"
      },
      "execution_count": null,
      "outputs": [
        {
          "output_type": "execute_result",
          "data": {
            "text/plain": [
              "['max_length.joblib']"
            ]
          },
          "metadata": {},
          "execution_count": 39
        }
      ]
    },
    {
      "cell_type": "code",
      "source": [
        "import json\n",
        "import numpy as np\n",
        "import pickle\n",
        "import joblib\n",
        "\n",
        "from google.colab import drive\n",
        "drive.mount('/content/drive')\n",
        "\n",
        "# Save the history as a binary file\n",
        "with open('/content/drive/MyDrive/history.bin', 'wb') as f:\n",
        "    pickle.dump(history.history, f)\n",
        "\n",
        "# Save the model weights\n",
        "CNN.save_weights('/content/drive/MyDrive/model_weights.h5')\n",
        "\n",
        "# Save the model architecture as JSON\n",
        "model_json = CNN.to_json()\n",
        "with open('/content/drive/MyDrive/model.json', 'w') as json_file:\n",
        "    json_file.write(model_json)\n",
        "\n",
        "# Save the tokenizer\n",
        "joblib.dump(tokenizer, '/content/drive/MyDrive/tokenizer.joblib')\n",
        "\n",
        "# Save the max_length\n",
        "joblib.dump(max_length, '/content/drive/MyDrive/max_length.joblib')\n"
      ],
      "metadata": {
        "colab": {
          "base_uri": "https://localhost:8080/"
        },
        "id": "f47e8tgKJdMW",
        "outputId": "4f5a08ae-4f26-4276-8563-ded994e9c301"
      },
      "execution_count": null,
      "outputs": [
        {
          "output_type": "stream",
          "name": "stdout",
          "text": [
            "Drive already mounted at /content/drive; to attempt to forcibly remount, call drive.mount(\"/content/drive\", force_remount=True).\n"
          ]
        },
        {
          "output_type": "execute_result",
          "data": {
            "text/plain": [
              "['/content/drive/MyDrive/max_length.joblib']"
            ]
          },
          "metadata": {},
          "execution_count": 40
        }
      ]
    }
  ],
  "metadata": {
    "accelerator": "GPU",
    "colab": {
      "gpuType": "T4",
      "provenance": []
    },
    "kaggle": {
      "accelerator": "gpu",
      "dataSources": [
        {
          "datasetId": 2477,
          "sourceId": 4140,
          "sourceType": "datasetVersion"
        }
      ],
      "dockerImageVersionId": 30698,
      "isGpuEnabled": true,
      "isInternetEnabled": true,
      "language": "python",
      "sourceType": "notebook"
    },
    "kernelspec": {
      "display_name": "Python 3",
      "name": "python3"
    },
    "language_info": {
      "codemirror_mode": {
        "name": "ipython",
        "version": 3
      },
      "file_extension": ".py",
      "mimetype": "text/x-python",
      "name": "python",
      "nbconvert_exporter": "python",
      "pygments_lexer": "ipython3",
      "version": "3.10.13"
    }
  },
  "nbformat": 4,
  "nbformat_minor": 0
}